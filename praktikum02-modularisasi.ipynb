{
 "cells": [
  {
   "cell_type": "code",
   "execution_count": null,
   "metadata": {},
   "outputs": [
    {
     "ename": "NameError",
     "evalue": "name 'geometri' is not defined",
     "output_type": "error",
     "traceback": [
      "\u001b[31m---------------------------------------------------------------------------\u001b[39m",
      "\u001b[31mNameError\u001b[39m                                 Traceback (most recent call last)",
      "\u001b[36mCell\u001b[39m\u001b[36m \u001b[39m\u001b[32mIn[3]\u001b[39m\u001b[32m, line 18\u001b[39m\n\u001b[32m     15\u001b[39m     \u001b[38;5;28mprint\u001b[39m(\u001b[33mf\u001b[39m\u001b[33m\"\u001b[39m\u001b[33mLuas lingkaran dengan jari-jari 7 adalah: \u001b[39m\u001b[38;5;132;01m{\u001b[39;00mluas_lingkaran\u001b[38;5;132;01m}\u001b[39;00m\u001b[33m\"\u001b[39m)\n\u001b[32m     17\u001b[39m \u001b[38;5;28;01mif\u001b[39;00m \u001b[34m__name__\u001b[39m == \u001b[33m\"\u001b[39m\u001b[33m__main__\u001b[39m\u001b[33m\"\u001b[39m:\n\u001b[32m---> \u001b[39m\u001b[32m18\u001b[39m     \u001b[43mmain\u001b[49m\u001b[43m(\u001b[49m\u001b[43m)\u001b[49m\n",
      "\u001b[36mCell\u001b[39m\u001b[36m \u001b[39m\u001b[32mIn[3]\u001b[39m\u001b[32m, line 8\u001b[39m, in \u001b[36mmain\u001b[39m\u001b[34m()\u001b[39m\n\u001b[32m      6\u001b[39m \u001b[38;5;28;01mdef\u001b[39;00m\u001b[38;5;250m \u001b[39m\u001b[34mmain\u001b[39m():\n\u001b[32m      7\u001b[39m     \u001b[38;5;66;03m# Menggunakan fungsi dari modul geometri\u001b[39;00m\n\u001b[32m----> \u001b[39m\u001b[32m8\u001b[39m     luas_persegi = \u001b[43mgeometri\u001b[49m.hitung_luas_persegi(\u001b[32m5\u001b[39m)\n\u001b[32m      9\u001b[39m     \u001b[38;5;28mprint\u001b[39m(\u001b[33mf\u001b[39m\u001b[33m\"\u001b[39m\u001b[33mLuas persegi dengan sisi 5 adalah: \u001b[39m\u001b[38;5;132;01m{\u001b[39;00mluas_persegi\u001b[38;5;132;01m}\u001b[39;00m\u001b[33m\"\u001b[39m)\n\u001b[32m     11\u001b[39m     luas_persegi_panjang = geometri.hitung_luas_persegi_panjang(\u001b[32m10\u001b[39m, \u001b[32m5\u001b[39m)\n",
      "\u001b[31mNameError\u001b[39m: name 'geometri' is not defined"
     ]
    }
   ],
   "source": [
    "# File utama main.py yang mengimpor modul geometri.py\n",
    "\n",
    "# Mengimpor modul geometri\n",
    "import geometri\n",
    "\n",
    "def main():\n",
    "    # Menggunakan fungsi dari modul geometri\n",
    "    luas_persegi = geometri.hitung_luas_persegi(5)\n",
    "    print(f\"Luas persegi dengan sisi 5 adalah: {luas_persegi}\")\n",
    "\n",
    "    luas_persegi_panjang = geometri.hitung_luas_persegi_panjang(10, 5)\n",
    "    print(f\"Luas persegi panjang dengan panjang 10 dan lebar 5 adalah: {luas_persegi_panjang}\")\n",
    "\n",
    "    luas_lingkaran = geometri.hitung_luas_lingkaran(7)\n",
    "    print(f\"Luas lingkaran dengan jari-jari 7 adalah: {luas_lingkaran}\")\n",
    "\n",
    "if __name__ == \"__main__\":\n",
    "    main()\n"
   ]
  }
 ],
 "metadata": {
  "kernelspec": {
   "display_name": "Python 3",
   "language": "python",
   "name": "python3"
  },
  "language_info": {
   "codemirror_mode": {
    "name": "ipython",
    "version": 3
   },
   "file_extension": ".py",
   "mimetype": "text/x-python",
   "name": "python",
   "nbconvert_exporter": "python",
   "pygments_lexer": "ipython3",
   "version": "3.13.2"
  }
 },
 "nbformat": 4,
 "nbformat_minor": 2
}
